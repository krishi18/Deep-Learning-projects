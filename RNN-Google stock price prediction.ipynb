{
 "cells": [
  {
   "cell_type": "markdown",
   "id": "20e8dc34",
   "metadata": {},
   "source": [
    "# Google stock price prediction - 2017"
   ]
  },
  {
   "cell_type": "code",
   "execution_count": 2,
   "id": "e56ebc2b",
   "metadata": {},
   "outputs": [],
   "source": [
    "import numpy as np\n",
    "import pandas as pd\n",
    "import matplotlib.pyplot as plt"
   ]
  },
  {
   "cell_type": "code",
   "execution_count": 3,
   "id": "09372564",
   "metadata": {},
   "outputs": [
    {
     "data": {
      "text/html": [
       "<div>\n",
       "<style scoped>\n",
       "    .dataframe tbody tr th:only-of-type {\n",
       "        vertical-align: middle;\n",
       "    }\n",
       "\n",
       "    .dataframe tbody tr th {\n",
       "        vertical-align: top;\n",
       "    }\n",
       "\n",
       "    .dataframe thead th {\n",
       "        text-align: right;\n",
       "    }\n",
       "</style>\n",
       "<table border=\"1\" class=\"dataframe\">\n",
       "  <thead>\n",
       "    <tr style=\"text-align: right;\">\n",
       "      <th></th>\n",
       "      <th>Date</th>\n",
       "      <th>Open</th>\n",
       "      <th>High</th>\n",
       "      <th>Low</th>\n",
       "      <th>Close</th>\n",
       "      <th>Volume</th>\n",
       "    </tr>\n",
       "  </thead>\n",
       "  <tbody>\n",
       "    <tr>\n",
       "      <th>0</th>\n",
       "      <td>1/3/2012</td>\n",
       "      <td>325.25</td>\n",
       "      <td>332.83</td>\n",
       "      <td>324.97</td>\n",
       "      <td>663.59</td>\n",
       "      <td>7,380,500</td>\n",
       "    </tr>\n",
       "    <tr>\n",
       "      <th>1</th>\n",
       "      <td>1/4/2012</td>\n",
       "      <td>331.27</td>\n",
       "      <td>333.87</td>\n",
       "      <td>329.08</td>\n",
       "      <td>666.45</td>\n",
       "      <td>5,749,400</td>\n",
       "    </tr>\n",
       "    <tr>\n",
       "      <th>2</th>\n",
       "      <td>1/5/2012</td>\n",
       "      <td>329.83</td>\n",
       "      <td>330.75</td>\n",
       "      <td>326.89</td>\n",
       "      <td>657.21</td>\n",
       "      <td>6,590,300</td>\n",
       "    </tr>\n",
       "    <tr>\n",
       "      <th>3</th>\n",
       "      <td>1/6/2012</td>\n",
       "      <td>328.34</td>\n",
       "      <td>328.77</td>\n",
       "      <td>323.68</td>\n",
       "      <td>648.24</td>\n",
       "      <td>5,405,900</td>\n",
       "    </tr>\n",
       "    <tr>\n",
       "      <th>4</th>\n",
       "      <td>1/9/2012</td>\n",
       "      <td>322.04</td>\n",
       "      <td>322.29</td>\n",
       "      <td>309.46</td>\n",
       "      <td>620.76</td>\n",
       "      <td>11,688,800</td>\n",
       "    </tr>\n",
       "  </tbody>\n",
       "</table>\n",
       "</div>"
      ],
      "text/plain": [
       "       Date    Open    High     Low   Close      Volume\n",
       "0  1/3/2012  325.25  332.83  324.97  663.59   7,380,500\n",
       "1  1/4/2012  331.27  333.87  329.08  666.45   5,749,400\n",
       "2  1/5/2012  329.83  330.75  326.89  657.21   6,590,300\n",
       "3  1/6/2012  328.34  328.77  323.68  648.24   5,405,900\n",
       "4  1/9/2012  322.04  322.29  309.46  620.76  11,688,800"
      ]
     },
     "execution_count": 3,
     "metadata": {},
     "output_type": "execute_result"
    }
   ],
   "source": [
    "#import training set\n",
    "dataset_train = pd.read_csv(r'C:\\Users\\Krishi Thiruppathi\\Desktop\\Google_Stock_Price_Train.csv')\n",
    "dataset_train.head()"
   ]
  },
  {
   "cell_type": "code",
   "execution_count": 6,
   "id": "754043b4",
   "metadata": {},
   "outputs": [
    {
     "data": {
      "text/plain": [
       "array([[325.25],\n",
       "       [331.27],\n",
       "       [329.83],\n",
       "       ...,\n",
       "       [793.7 ],\n",
       "       [783.33],\n",
       "       [782.75]])"
      ]
     },
     "execution_count": 6,
     "metadata": {},
     "output_type": "execute_result"
    }
   ],
   "source": [
    "training_set=dataset_train.iloc[:, 1:2].values\n",
    "training_set"
   ]
  },
  {
   "cell_type": "code",
   "execution_count": 7,
   "id": "cf084dfc",
   "metadata": {},
   "outputs": [],
   "source": [
    "# Feature Scaling - in this case, normalization is advisable\n",
    "#Xnorm=X-min(X)/max(X)-min(X)\n",
    "from sklearn.preprocessing import MinMaxScaler\n",
    "sc=MinMaxScaler(feature_range=(0,1))\n",
    "training_set_scaled=sc.fit_transform(training_set)"
   ]
  },
  {
   "cell_type": "code",
   "execution_count": 8,
   "id": "c818f6ee",
   "metadata": {},
   "outputs": [
    {
     "data": {
      "text/plain": [
       "array([[0.08581368],\n",
       "       [0.09701243],\n",
       "       [0.09433366],\n",
       "       ...,\n",
       "       [0.95725128],\n",
       "       [0.93796041],\n",
       "       [0.93688146]])"
      ]
     },
     "execution_count": 8,
     "metadata": {},
     "output_type": "execute_result"
    }
   ],
   "source": [
    "training_set_scaled"
   ]
  },
  {
   "cell_type": "markdown",
   "id": "b473b903",
   "metadata": {},
   "source": [
    "### Creating a data structure with 60 timestamps and 1 output"
   ]
  },
  {
   "cell_type": "code",
   "execution_count": 13,
   "id": "bab38408",
   "metadata": {},
   "outputs": [],
   "source": [
    "# since 20 working days in a month, the output will be predicted on the stock prices of past 3 months\n",
    "X_train=[] #input list to contain 60 prev stock prices\n",
    "y_train=[] # 1 output list\n",
    "for i in range(60,1258):\n",
    "    X_train.append(training_set_scaled[i-60:i,0]) #0-59\n",
    "    y_train.append(training_set_scaled[i,0])\n",
    "# make them numpy arrays for rnn\n",
    "X_train, y_train = np.array(X_train), np.array(y_train)"
   ]
  },
  {
   "cell_type": "code",
   "execution_count": 14,
   "id": "6d61bad9",
   "metadata": {},
   "outputs": [
    {
     "data": {
      "text/plain": [
       "array([[0.08581368, 0.09701243, 0.09433366, ..., 0.07846566, 0.08034452,\n",
       "        0.08497656],\n",
       "       [0.09701243, 0.09433366, 0.09156187, ..., 0.08034452, 0.08497656,\n",
       "        0.08627874],\n",
       "       [0.09433366, 0.09156187, 0.07984225, ..., 0.08497656, 0.08627874,\n",
       "        0.08471612],\n",
       "       ...,\n",
       "       [0.92106928, 0.92438053, 0.93048218, ..., 0.95475854, 0.95204256,\n",
       "        0.95163331],\n",
       "       [0.92438053, 0.93048218, 0.9299055 , ..., 0.95204256, 0.95163331,\n",
       "        0.95725128],\n",
       "       [0.93048218, 0.9299055 , 0.93113327, ..., 0.95163331, 0.95725128,\n",
       "        0.93796041]])"
      ]
     },
     "execution_count": 14,
     "metadata": {},
     "output_type": "execute_result"
    }
   ],
   "source": [
    "X_train"
   ]
  },
  {
   "cell_type": "code",
   "execution_count": 15,
   "id": "0b003a58",
   "metadata": {},
   "outputs": [
    {
     "data": {
      "text/plain": [
       "array([0.08627874, 0.08471612, 0.07454052, ..., 0.95725128, 0.93796041,\n",
       "       0.93688146])"
      ]
     },
     "execution_count": 15,
     "metadata": {},
     "output_type": "execute_result"
    }
   ],
   "source": [
    "y_train"
   ]
  },
  {
   "cell_type": "code",
   "execution_count": 21,
   "id": "eb8478c8",
   "metadata": {},
   "outputs": [
    {
     "data": {
      "text/plain": [
       "array([[[0.08581368],\n",
       "        [0.09701243],\n",
       "        [0.09433366],\n",
       "        ...,\n",
       "        [0.07846566],\n",
       "        [0.08034452],\n",
       "        [0.08497656]],\n",
       "\n",
       "       [[0.09701243],\n",
       "        [0.09433366],\n",
       "        [0.09156187],\n",
       "        ...,\n",
       "        [0.08034452],\n",
       "        [0.08497656],\n",
       "        [0.08627874]],\n",
       "\n",
       "       [[0.09433366],\n",
       "        [0.09156187],\n",
       "        [0.07984225],\n",
       "        ...,\n",
       "        [0.08497656],\n",
       "        [0.08627874],\n",
       "        [0.08471612]],\n",
       "\n",
       "       ...,\n",
       "\n",
       "       [[0.92106928],\n",
       "        [0.92438053],\n",
       "        [0.93048218],\n",
       "        ...,\n",
       "        [0.95475854],\n",
       "        [0.95204256],\n",
       "        [0.95163331]],\n",
       "\n",
       "       [[0.92438053],\n",
       "        [0.93048218],\n",
       "        [0.9299055 ],\n",
       "        ...,\n",
       "        [0.95204256],\n",
       "        [0.95163331],\n",
       "        [0.95725128]],\n",
       "\n",
       "       [[0.93048218],\n",
       "        [0.9299055 ],\n",
       "        [0.93113327],\n",
       "        ...,\n",
       "        [0.95163331],\n",
       "        [0.95725128],\n",
       "        [0.93796041]]])"
      ]
     },
     "execution_count": 21,
     "metadata": {},
     "output_type": "execute_result"
    }
   ],
   "source": [
    "# reshaping\n",
    "X_train = np.reshape(X_train, (X_train.shape[0],X_train.shape[1],1)) \n",
    "# 3D-(rows-no. of stock prices,cols-no. of timestamps,no. of predictions)\n",
    "X_train"
   ]
  },
  {
   "cell_type": "markdown",
   "id": "364e3c34",
   "metadata": {},
   "source": [
    "### Building a RNN"
   ]
  },
  {
   "cell_type": "code",
   "execution_count": 22,
   "id": "3779e84b",
   "metadata": {},
   "outputs": [],
   "source": [
    "from keras.models import Sequential\n",
    "from keras.layers import Dense\n",
    "from keras.layers import LSTM\n",
    "from keras.layers import Dropout"
   ]
  },
  {
   "cell_type": "code",
   "execution_count": 23,
   "id": "28f43373",
   "metadata": {},
   "outputs": [],
   "source": [
    "regressor = Sequential() # continuous values-regression"
   ]
  },
  {
   "cell_type": "code",
   "execution_count": 25,
   "id": "caea4008",
   "metadata": {},
   "outputs": [],
   "source": [
    "# First LSTM layer and some Dropout regularization\n",
    "regressor.add(LSTM(units = 50, return_sequences=True, input_shape= (X_train.shape[1],1))) # return_sequences is True due to stacked LSTM\n",
    "regressor.add(Dropout(0.2)) #Dropout rate- rate of neurons to be dropped the the layers"
   ]
  },
  {
   "cell_type": "code",
   "execution_count": 26,
   "id": "176faf2f",
   "metadata": {},
   "outputs": [],
   "source": [
    "# Second LSTM layer and some Dropout regularization\n",
    "regressor.add(LSTM(units = 50, return_sequences=True)) \n",
    "regressor.add(Dropout(0.2))"
   ]
  },
  {
   "cell_type": "code",
   "execution_count": 27,
   "id": "ffde5f2a",
   "metadata": {},
   "outputs": [],
   "source": [
    "# Third LSTM layer and some Dropout regularization\n",
    "regressor.add(LSTM(units = 50, return_sequences=True)) \n",
    "regressor.add(Dropout(0.2))"
   ]
  },
  {
   "cell_type": "code",
   "execution_count": 28,
   "id": "f4d08918",
   "metadata": {},
   "outputs": [],
   "source": [
    "# Fourth LSTM layer and some Dropout regularization\n",
    "regressor.add(LSTM(units = 50)) \n",
    "regressor.add(Dropout(0.2))"
   ]
  },
  {
   "cell_type": "markdown",
   "id": "768862a2",
   "metadata": {},
   "source": [
    "##### Adding the output layer"
   ]
  },
  {
   "cell_type": "code",
   "execution_count": 29,
   "id": "427c0d6f",
   "metadata": {},
   "outputs": [],
   "source": [
    "regressor.add(Dense(units=1))"
   ]
  },
  {
   "cell_type": "code",
   "execution_count": 30,
   "id": "bf17f78f",
   "metadata": {},
   "outputs": [],
   "source": [
    "# compiling the rnn\n",
    "regressor.compile(optimizer = 'adam', loss = 'mean_squared_error')"
   ]
  },
  {
   "cell_type": "markdown",
   "id": "4491c20e",
   "metadata": {},
   "source": [
    "### Training the RNN"
   ]
  },
  {
   "cell_type": "code",
   "execution_count": 31,
   "id": "814d0bcd",
   "metadata": {},
   "outputs": [
    {
     "name": "stdout",
     "output_type": "stream",
     "text": [
      "Epoch 1/100\n",
      "38/38 [==============================] - 11s 120ms/step - loss: 0.0361\n",
      "Epoch 2/100\n",
      "38/38 [==============================] - 4s 118ms/step - loss: 0.0070\n",
      "Epoch 3/100\n",
      "38/38 [==============================] - 5s 120ms/step - loss: 0.0074\n",
      "Epoch 4/100\n",
      "38/38 [==============================] - 5s 119ms/step - loss: 0.0057\n",
      "Epoch 5/100\n",
      "38/38 [==============================] - 5s 123ms/step - loss: 0.0052\n",
      "Epoch 6/100\n",
      "38/38 [==============================] - 4s 118ms/step - loss: 0.0052\n",
      "Epoch 7/100\n",
      "38/38 [==============================] - 5s 119ms/step - loss: 0.0054\n",
      "Epoch 8/100\n",
      "38/38 [==============================] - 5s 120ms/step - loss: 0.0054\n",
      "Epoch 9/100\n",
      "38/38 [==============================] - 5s 122ms/step - loss: 0.0057\n",
      "Epoch 10/100\n",
      "38/38 [==============================] - 5s 122ms/step - loss: 0.0047\n",
      "Epoch 11/100\n",
      "38/38 [==============================] - 5s 122ms/step - loss: 0.0043\n",
      "Epoch 12/100\n",
      "38/38 [==============================] - 5s 120ms/step - loss: 0.0045\n",
      "Epoch 13/100\n",
      "38/38 [==============================] - 5s 118ms/step - loss: 0.0042\n",
      "Epoch 14/100\n",
      "38/38 [==============================] - 4s 117ms/step - loss: 0.0044\n",
      "Epoch 15/100\n",
      "38/38 [==============================] - 4s 115ms/step - loss: 0.0040\n",
      "Epoch 16/100\n",
      "38/38 [==============================] - 4s 113ms/step - loss: 0.0039\n",
      "Epoch 17/100\n",
      "38/38 [==============================] - 4s 115ms/step - loss: 0.0039\n",
      "Epoch 18/100\n",
      "38/38 [==============================] - 4s 113ms/step - loss: 0.0039\n",
      "Epoch 19/100\n",
      "38/38 [==============================] - 4s 114ms/step - loss: 0.0034\n",
      "Epoch 20/100\n",
      "38/38 [==============================] - 4s 112ms/step - loss: 0.0039\n",
      "Epoch 21/100\n",
      "38/38 [==============================] - 4s 113ms/step - loss: 0.0034\n",
      "Epoch 22/100\n",
      "38/38 [==============================] - 4s 116ms/step - loss: 0.0035\n",
      "Epoch 23/100\n",
      "38/38 [==============================] - 4s 117ms/step - loss: 0.0030\n",
      "Epoch 24/100\n",
      "38/38 [==============================] - 4s 114ms/step - loss: 0.0034\n",
      "Epoch 25/100\n",
      "38/38 [==============================] - 4s 114ms/step - loss: 0.0037\n",
      "Epoch 26/100\n",
      "38/38 [==============================] - 4s 115ms/step - loss: 0.0032\n",
      "Epoch 27/100\n",
      "38/38 [==============================] - 4s 111ms/step - loss: 0.0037\n",
      "Epoch 28/100\n",
      "38/38 [==============================] - 4s 114ms/step - loss: 0.0032\n",
      "Epoch 29/100\n",
      "38/38 [==============================] - 5s 119ms/step - loss: 0.0030\n",
      "Epoch 30/100\n",
      "38/38 [==============================] - 4s 116ms/step - loss: 0.0030\n",
      "Epoch 31/100\n",
      "38/38 [==============================] - 4s 116ms/step - loss: 0.0028\n",
      "Epoch 32/100\n",
      "38/38 [==============================] - 4s 117ms/step - loss: 0.0030\n",
      "Epoch 33/100\n",
      "38/38 [==============================] - 4s 116ms/step - loss: 0.0034\n",
      "Epoch 34/100\n",
      "38/38 [==============================] - 4s 115ms/step - loss: 0.0030\n",
      "Epoch 35/100\n",
      "38/38 [==============================] - 4s 118ms/step - loss: 0.0030\n",
      "Epoch 36/100\n",
      "38/38 [==============================] - 4s 116ms/step - loss: 0.0030\n",
      "Epoch 37/100\n",
      "38/38 [==============================] - 4s 118ms/step - loss: 0.0028\n",
      "Epoch 38/100\n",
      "38/38 [==============================] - 4s 117ms/step - loss: 0.0027\n",
      "Epoch 39/100\n",
      "38/38 [==============================] - 4s 114ms/step - loss: 0.0028\n",
      "Epoch 40/100\n",
      "38/38 [==============================] - 4s 115ms/step - loss: 0.0026\n",
      "Epoch 41/100\n",
      "38/38 [==============================] - 4s 116ms/step - loss: 0.0033\n",
      "Epoch 42/100\n",
      "38/38 [==============================] - 5s 119ms/step - loss: 0.0029\n",
      "Epoch 43/100\n",
      "38/38 [==============================] - 4s 116ms/step - loss: 0.0029\n",
      "Epoch 44/100\n",
      "38/38 [==============================] - 5s 124ms/step - loss: 0.0027\n",
      "Epoch 45/100\n",
      "38/38 [==============================] - 5s 121ms/step - loss: 0.0025\n",
      "Epoch 46/100\n",
      "38/38 [==============================] - 5s 123ms/step - loss: 0.0024\n",
      "Epoch 47/100\n",
      "38/38 [==============================] - 5s 120ms/step - loss: 0.0024\n",
      "Epoch 48/100\n",
      "38/38 [==============================] - 4s 118ms/step - loss: 0.0024\n",
      "Epoch 49/100\n",
      "38/38 [==============================] - 5s 121ms/step - loss: 0.0024\n",
      "Epoch 50/100\n",
      "38/38 [==============================] - 5s 121ms/step - loss: 0.0024\n",
      "Epoch 51/100\n",
      "38/38 [==============================] - 5s 123ms/step - loss: 0.0021\n",
      "Epoch 52/100\n",
      "38/38 [==============================] - 5s 124ms/step - loss: 0.0026\n",
      "Epoch 53/100\n",
      "38/38 [==============================] - 4s 116ms/step - loss: 0.0023\n",
      "Epoch 54/100\n",
      "38/38 [==============================] - 4s 113ms/step - loss: 0.0024\n",
      "Epoch 55/100\n",
      "38/38 [==============================] - 4s 111ms/step - loss: 0.0024\n",
      "Epoch 56/100\n",
      "38/38 [==============================] - 4s 113ms/step - loss: 0.0022\n",
      "Epoch 57/100\n",
      "38/38 [==============================] - 4s 116ms/step - loss: 0.0025\n",
      "Epoch 58/100\n",
      "38/38 [==============================] - 4s 114ms/step - loss: 0.0023\n",
      "Epoch 59/100\n",
      "38/38 [==============================] - 4s 115ms/step - loss: 0.0020\n",
      "Epoch 60/100\n",
      "38/38 [==============================] - 4s 116ms/step - loss: 0.0018\n",
      "Epoch 61/100\n",
      "38/38 [==============================] - 4s 114ms/step - loss: 0.0019\n",
      "Epoch 62/100\n",
      "38/38 [==============================] - 4s 116ms/step - loss: 0.0021\n",
      "Epoch 63/100\n",
      "38/38 [==============================] - 4s 115ms/step - loss: 0.0020\n",
      "Epoch 64/100\n",
      "38/38 [==============================] - 4s 116ms/step - loss: 0.0019\n",
      "Epoch 65/100\n",
      "38/38 [==============================] - 4s 113ms/step - loss: 0.0021\n",
      "Epoch 66/100\n",
      "38/38 [==============================] - 4s 114ms/step - loss: 0.0019\n",
      "Epoch 67/100\n",
      "38/38 [==============================] - 4s 114ms/step - loss: 0.0018\n",
      "Epoch 68/100\n",
      "38/38 [==============================] - 4s 113ms/step - loss: 0.0019\n",
      "Epoch 69/100\n",
      "38/38 [==============================] - 4s 114ms/step - loss: 0.0017\n",
      "Epoch 70/100\n",
      "38/38 [==============================] - 4s 112ms/step - loss: 0.0019\n",
      "Epoch 71/100\n",
      "38/38 [==============================] - 4s 112ms/step - loss: 0.0019\n",
      "Epoch 72/100\n",
      "38/38 [==============================] - 4s 112ms/step - loss: 0.0018\n",
      "Epoch 73/100\n",
      "38/38 [==============================] - 4s 116ms/step - loss: 0.0019\n",
      "Epoch 74/100\n",
      "38/38 [==============================] - 4s 113ms/step - loss: 0.0018\n",
      "Epoch 75/100\n",
      "38/38 [==============================] - 4s 115ms/step - loss: 0.0018\n",
      "Epoch 76/100\n",
      "38/38 [==============================] - 4s 114ms/step - loss: 0.0018\n",
      "Epoch 77/100\n",
      "38/38 [==============================] - 4s 113ms/step - loss: 0.0018\n",
      "Epoch 78/100\n",
      "38/38 [==============================] - 4s 115ms/step - loss: 0.0016\n",
      "Epoch 79/100\n",
      "38/38 [==============================] - 4s 115ms/step - loss: 0.0017\n",
      "Epoch 80/100\n",
      "38/38 [==============================] - 4s 113ms/step - loss: 0.0015\n",
      "Epoch 81/100\n",
      "38/38 [==============================] - 4s 115ms/step - loss: 0.0018\n",
      "Epoch 82/100\n",
      "38/38 [==============================] - 4s 115ms/step - loss: 0.0015\n",
      "Epoch 83/100\n",
      "38/38 [==============================] - 4s 114ms/step - loss: 0.0015\n",
      "Epoch 84/100\n",
      "38/38 [==============================] - 4s 116ms/step - loss: 0.0014\n",
      "Epoch 85/100\n",
      "38/38 [==============================] - 4s 116ms/step - loss: 0.0015\n",
      "Epoch 86/100\n",
      "38/38 [==============================] - 4s 115ms/step - loss: 0.0015\n",
      "Epoch 87/100\n",
      "38/38 [==============================] - 4s 116ms/step - loss: 0.0015\n",
      "Epoch 88/100\n",
      "38/38 [==============================] - 4s 116ms/step - loss: 0.0016\n",
      "Epoch 89/100\n",
      "38/38 [==============================] - 4s 118ms/step - loss: 0.0014\n",
      "Epoch 90/100\n",
      "38/38 [==============================] - 4s 117ms/step - loss: 0.0016\n",
      "Epoch 91/100\n",
      "38/38 [==============================] - 5s 119ms/step - loss: 0.0015\n",
      "Epoch 92/100\n",
      "38/38 [==============================] - 5s 122ms/step - loss: 0.0013\n",
      "Epoch 93/100\n",
      "38/38 [==============================] - 5s 124ms/step - loss: 0.0014\n",
      "Epoch 94/100\n",
      "38/38 [==============================] - 5s 121ms/step - loss: 0.0014\n",
      "Epoch 95/100\n",
      "38/38 [==============================] - 4s 117ms/step - loss: 0.0015\n",
      "Epoch 96/100\n",
      "38/38 [==============================] - 5s 122ms/step - loss: 0.0016\n",
      "Epoch 97/100\n",
      "38/38 [==============================] - 5s 119ms/step - loss: 0.0014\n",
      "Epoch 98/100\n",
      "38/38 [==============================] - 5s 122ms/step - loss: 0.0015\n",
      "Epoch 99/100\n",
      "38/38 [==============================] - 5s 119ms/step - loss: 0.0013\n",
      "Epoch 100/100\n",
      "38/38 [==============================] - 5s 120ms/step - loss: 0.0014\n"
     ]
    },
    {
     "data": {
      "text/plain": [
       "<keras.callbacks.History at 0x1e52ae89f40>"
      ]
     },
     "execution_count": 31,
     "metadata": {},
     "output_type": "execute_result"
    }
   ],
   "source": [
    "regressor.fit(X_train, y_train, epochs = 100, batch_size = 32)"
   ]
  },
  {
   "cell_type": "markdown",
   "id": "1e7c28bf",
   "metadata": {},
   "source": [
    "### Making the predictions and visualizing the results"
   ]
  },
  {
   "cell_type": "markdown",
   "id": "3f1eacb4",
   "metadata": {},
   "source": [
    "##### Getting real stock price of 2017 (one month)"
   ]
  },
  {
   "cell_type": "code",
   "execution_count": 32,
   "id": "ed7bf47a",
   "metadata": {},
   "outputs": [],
   "source": [
    "dataset_test = pd.read_csv(r'C:\\Users\\Krishi Thiruppathi\\Desktop\\Google_Stock_Price_Test.csv')\n",
    "real_stock_price = dataset_test.iloc[:,1:2].values"
   ]
  },
  {
   "cell_type": "code",
   "execution_count": 33,
   "id": "e37659b1",
   "metadata": {},
   "outputs": [
    {
     "data": {
      "text/plain": [
       "array([[778.81],\n",
       "       [788.36],\n",
       "       [786.08],\n",
       "       [795.26],\n",
       "       [806.4 ],\n",
       "       [807.86],\n",
       "       [805.  ],\n",
       "       [807.14],\n",
       "       [807.48],\n",
       "       [807.08],\n",
       "       [805.81],\n",
       "       [805.12],\n",
       "       [806.91],\n",
       "       [807.25],\n",
       "       [822.3 ],\n",
       "       [829.62],\n",
       "       [837.81],\n",
       "       [834.71],\n",
       "       [814.66],\n",
       "       [796.86]])"
      ]
     },
     "execution_count": 33,
     "metadata": {},
     "output_type": "execute_result"
    }
   ],
   "source": [
    "real_stock_price"
   ]
  },
  {
   "cell_type": "markdown",
   "id": "fcd93dab",
   "metadata": {},
   "source": [
    "##### Getting predicted stock price of 2017 (one month)"
   ]
  },
  {
   "cell_type": "code",
   "execution_count": null,
   "id": "0e01a206",
   "metadata": {},
   "outputs": [],
   "source": [
    "'''To get the predicted output of (T+1)th day, we must have the stock price of T working days(i.e 60). \n",
    "Hence we must concatenate the original training and test set (and then scale them) since its continuous data.  '''"
   ]
  },
  {
   "cell_type": "code",
   "execution_count": 34,
   "id": "afe42cef",
   "metadata": {},
   "outputs": [],
   "source": [
    "dataset_total = pd.concat((dataset_train['Open'],dataset_test['Open']), axis=0)"
   ]
  },
  {
   "cell_type": "code",
   "execution_count": 37,
   "id": "255bda89",
   "metadata": {},
   "outputs": [],
   "source": [
    "# to get lower bound, we subtract test data from total and subtract 60, upper bound is naturally the last value before prediction\n",
    "inputs = dataset_total[len(dataset_total) - len(dataset_test) - 60:].values\n",
    "inputs = inputs.reshape(-1,1)\n",
    "inputs = sc.transform(inputs)"
   ]
  },
  {
   "cell_type": "code",
   "execution_count": 38,
   "id": "4fbf34e1",
   "metadata": {},
   "outputs": [],
   "source": [
    "X_test=[] \n",
    "for i in range(60,80): #test set-60+20\n",
    "    X_test.append(inputs[i-60:i,0]) \n",
    "X_test = np.array(X_test)\n",
    "# reshaping\n",
    "X_test = np.reshape(X_test, (X_test.shape[0],X_test.shape[1],1)) \n",
    "# 3D-(rows-no. of stock prices,cols-no. of timestamps,no. of predictions)"
   ]
  },
  {
   "cell_type": "code",
   "execution_count": 43,
   "id": "bcabc641",
   "metadata": {},
   "outputs": [
    {
     "name": "stdout",
     "output_type": "stream",
     "text": [
      "1/1 [==============================] - 0s 41ms/step\n"
     ]
    }
   ],
   "source": [
    "predicted_stock_price = regressor.predict(X_test)\n",
    "# inverse the scaling to get original prices\n",
    "predicted_stock_price = sc.inverse_transform(predicted_stock_price)"
   ]
  },
  {
   "cell_type": "code",
   "execution_count": 44,
   "id": "26094e2b",
   "metadata": {},
   "outputs": [
    {
     "data": {
      "text/plain": [
       "array([[785.02905],\n",
       "       [782.3211 ],\n",
       "       [785.6289 ],\n",
       "       [787.92474],\n",
       "       [791.59796],\n",
       "       [798.32715],\n",
       "       [801.8398 ],\n",
       "       [800.0862 ],\n",
       "       [798.9403 ],\n",
       "       [799.5806 ],\n",
       "       [800.58795],\n",
       "       [800.85223],\n",
       "       [800.8396 ],\n",
       "       [802.00806],\n",
       "       [803.27625],\n",
       "       [810.7782 ],\n",
       "       [818.7599 ],\n",
       "       [824.5086 ],\n",
       "       [823.9017 ],\n",
       "       [812.8783 ]], dtype=float32)"
      ]
     },
     "execution_count": 44,
     "metadata": {},
     "output_type": "execute_result"
    }
   ],
   "source": [
    "predicted_stock_price"
   ]
  },
  {
   "cell_type": "markdown",
   "id": "aa516cf4",
   "metadata": {},
   "source": [
    "##### Visualizing the results"
   ]
  },
  {
   "cell_type": "code",
   "execution_count": 45,
   "id": "76f5291f",
   "metadata": {},
   "outputs": [
    {
     "data": {
      "image/png": "[encoded data removed]",
      "text/plain": [
       "<Figure size 640x480 with 1 Axes>"
      ]
     },
     "metadata": {},
     "output_type": "display_data"
    }
   ],
   "source": [
    "plt.plot(real_stock_price, color='red', label='Real Google Stock Price')\n",
    "plt.plot(predicted_stock_price, color='blue', label='Predicted Google Stock Price')\n",
    "plt.title('Google Stock Price Prediction - 2017')\n",
    "plt.xlabel('Time')\n",
    "plt.ylabel('Stock Price')\n",
    "plt.legend()\n",
    "plt.show()"
   ]
  },
  {
   "cell_type": "code",
   "execution_count": null,
   "id": "e749d31e",
   "metadata": {},
   "outputs": [],
   "source": []
  }
 ],
 "metadata": {
  "kernelspec": {
   "display_name": "Python 3 (ipykernel)",
   "language": "python",
   "name": "python3"
  },
  "language_info": {
   "codemirror_mode": {
    "name": "ipython",
    "version": 3
   },
   "file_extension": ".py",
   "mimetype": "text/x-python",
   "name": "python",
   "nbconvert_exporter": "python",
   "pygments_lexer": "ipython3",
   "version": "3.9.13"
  }
 },
 "nbformat": 4,
 "nbformat_minor": 5
}
